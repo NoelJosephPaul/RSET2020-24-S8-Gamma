{
  "cells": [
    {
      "cell_type": "code",
      "execution_count": null,
      "metadata": {},
      "outputs": [],
      "source": [
        "!python clientexe2.py GrammarlyInstaller.cVWGUea8qwif8kgejq0p01o2.exe"
      ]
    }
  ],
  "metadata": {
    "colab": {
      "name": "AISec_Task 3_Client Execution.ipynb",
      "provenance": []
    },
    "kernelspec": {
      "display_name": "Python 3",
      "name": "python3"
    },
    "language_info": {
      "codemirror_mode": {
        "name": "ipython",
        "version": 3
      },
      "file_extension": ".py",
      "mimetype": "text/x-python",
      "name": "python",
      "nbconvert_exporter": "python",
      "pygments_lexer": "ipython3",
      "version": "3.11.9"
    }
  },
  "nbformat": 4,
  "nbformat_minor": 0
}
